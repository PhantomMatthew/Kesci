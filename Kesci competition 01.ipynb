{
 "cells": [
  {
   "cell_type": "markdown",
   "metadata": {},
   "source": [
    "Kesci competition"
   ]
  },
  {
   "cell_type": "markdown",
   "metadata": {},
   "source": [
    "### 导入数据"
   ]
  },
  {
   "cell_type": "code",
   "execution_count": 1,
   "metadata": {},
   "outputs": [
    {
     "ename": "ImportError",
     "evalue": "No module named 'lightgbm'",
     "output_type": "error",
     "traceback": [
      "\u001b[1;31m---------------------------------------------------------------------------\u001b[0m",
      "\u001b[1;31mImportError\u001b[0m                               Traceback (most recent call last)",
      "\u001b[1;32m<ipython-input-1-7e4bea36baf6>\u001b[0m in \u001b[0;36m<module>\u001b[1;34m\u001b[0m\n\u001b[1;32m----> 1\u001b[1;33m \u001b[1;32mimport\u001b[0m \u001b[0mlightgbm\u001b[0m \u001b[1;32mas\u001b[0m \u001b[0mlgb\u001b[0m\u001b[1;33m\u001b[0m\u001b[0m\n\u001b[0m\u001b[0;32m      2\u001b[0m \u001b[1;32mimport\u001b[0m \u001b[0mpandas\u001b[0m \u001b[1;32mas\u001b[0m \u001b[0mpd\u001b[0m\u001b[1;33m\u001b[0m\u001b[0m\n\u001b[0;32m      3\u001b[0m \u001b[1;32mimport\u001b[0m \u001b[0mnumpy\u001b[0m \u001b[1;32mas\u001b[0m \u001b[0mnp\u001b[0m\u001b[1;33m\u001b[0m\u001b[0m\n\u001b[0;32m      4\u001b[0m \u001b[1;32mimport\u001b[0m \u001b[0mmatplotlib\u001b[0m\u001b[1;33m.\u001b[0m\u001b[0mpyplot\u001b[0m \u001b[1;32mas\u001b[0m \u001b[0mplt\u001b[0m\u001b[1;33m\u001b[0m\u001b[0m\n\u001b[0;32m      5\u001b[0m \u001b[0mget_ipython\u001b[0m\u001b[1;33m(\u001b[0m\u001b[1;33m)\u001b[0m\u001b[1;33m.\u001b[0m\u001b[0mrun_line_magic\u001b[0m\u001b[1;33m(\u001b[0m\u001b[1;34m'matplotlib'\u001b[0m\u001b[1;33m,\u001b[0m \u001b[1;34m'inline'\u001b[0m\u001b[1;33m)\u001b[0m\u001b[1;33m\u001b[0m\u001b[0m\n",
      "\u001b[1;31mImportError\u001b[0m: No module named 'lightgbm'"
     ]
    }
   ],
   "source": [
    "import lightgbm as lgb\n",
    "import pandas as pd\n",
    "import numpy as np\n",
    "import matplotlib.pyplot as plt\n",
    "%matplotlib inline\n",
    "\n",
    "train_raw = pd.read_csv('train_set.csv')\n",
    "\n",
    "#data\n",
    "test_raw = pd.read_csv('test_set.csv')\n",
    "\n",
    "#test_data\n",
    "print(train_raw.dtypes)"
   ]
  },
  {
   "cell_type": "markdown",
   "metadata": {},
   "source": [
    "查看数据的指标"
   ]
  },
  {
   "cell_type": "code",
   "execution_count": null,
   "metadata": {},
   "outputs": [],
   "source": [
    "train_raw.describe()"
   ]
  },
  {
   "cell_type": "markdown",
   "metadata": {},
   "source": [
    "数据预处理"
   ]
  },
  {
   "cell_type": "code",
   "execution_count": null,
   "metadata": {},
   "outputs": [],
   "source": [
    "from sklearn.preprocessing import LabelEncoder\n",
    "from sklearn.preprocessing import StandardScaler\n",
    "\n",
    "for col in train_raw.columns[train_raw.dtypes=='object']:\n",
    "    le = LabelEncoder()\n",
    "    le.fit(train_raw[col])\n",
    "    \n",
    "    train_raw[col] = le.transform(train_raw[col])\n",
    "    test_raw[col] = le.transform(test_raw[col])\n",
    "    \n",
    "    \n",
    "#print(train_raw)\n",
    "#print(test_raw)\n",
    "\n",
    "scaler = StandardScaler(copy=True, with_mean=True, with_std=True)\n",
    "\n",
    "scaler.fit(train_raw[['age', 'balance', 'duration', 'campaign', 'pdays', 'previous']])\n",
    "\n",
    "train_raw[['age', 'balance', 'duration', 'campaign', 'pdays', 'previous']]=scaler.transform(train_raw[['age', 'balance', 'duration', 'campaign', 'pdays', 'previous']])\n",
    "test_raw[['age', 'balance', 'duration', 'campaign', 'pdays', 'previous']]=scaler.transform(test_raw[['age', 'balance', 'duration', 'campaign', 'pdays', 'previous']])\n",
    "\n",
    "train_raw.head(100)\n",
    "test_raw.head(100)"
   ]
  },
  {
   "cell_type": "markdown",
   "metadata": {},
   "source": [
    "分割训练集和验证集"
   ]
  },
  {
   "cell_type": "code",
   "execution_count": null,
   "metadata": {},
   "outputs": [],
   "source": [
    "from sklearn.model_selection import train_test_split\n",
    "\n",
    "prediction = train_raw['y']\n",
    "\n",
    "features = train_raw.drop('y', axis = 1)\n",
    "\n",
    "X_train, X_test, y_train, y_test = train_test_split(features, prediction, test_size=0.2, random_state=42)\n",
    "\n",
    "print(features)\n",
    "\n",
    "print(\"Training and testing split was successful.\")"
   ]
  },
  {
   "cell_type": "markdown",
   "metadata": {},
   "source": [
    "使用lgb进行训练"
   ]
  },
  {
   "cell_type": "code",
   "execution_count": null,
   "metadata": {},
   "outputs": [],
   "source": [
    "lgb_train = lgb.Dataset(X_train, y_train)\n",
    "lgb_eval = lgb.Dataset(X_test, y_test, reference=lgb_train)\n",
    "\n",
    "params = {\n",
    "    'boosting_type': 'gbdt',\n",
    "    'objective': 'binary',\n",
    "    'metric': {'binary_logloss', 'auc'},\n",
    "    'num_leaves': 5,\n",
    "    'max_depth': 6,\n",
    "    'min_data_in_leaf': 450,\n",
    "    'learning_rate': 0.1,\n",
    "    'feature_fraction': 0.9,\n",
    "    'bagging_fraction': 0.95,\n",
    "    'bagging_freq': 5,\n",
    "    'lambda_l1': 1,  \n",
    "    'lambda_l2': 0.001,\n",
    "    'min_gain_to_split': 0.2,\n",
    "    'verbose': 5,\n",
    "    'is_unbalance': True\n",
    "}\n",
    "\n",
    "gbm = lgb.train(params,\n",
    "               lgb_train,\n",
    "               num_boost_round=1000,\n",
    "               valid_sets=lgb_eval,\n",
    "               valid_names=None,\n",
    "               fobj=None, feval=None, init_model=None,\n",
    "                feature_name='auto', categorical_feature='auto',\n",
    "                early_stopping_rounds=50, evals_result=None,\n",
    "                  verbose_eval=True,\n",
    "                  keep_training_booster=False, callbacks=None)\n",
    "\n",
    "preds = gbm.predict(test_raw, num_iteration=gbm.best_iteration)\n",
    "\n",
    "# print(preds)\n",
    "\n",
    "# threshold = 0.5\n",
    "\n",
    "# for pred in preds:\n",
    "#     result = 1 if pred > threshold else 0\n",
    "    \n",
    "test_raw['y'] = preds\n",
    "test_raw.head(10000)"
   ]
  },
  {
   "cell_type": "markdown",
   "metadata": {},
   "source": [
    "提交结果"
   ]
  },
  {
   "cell_type": "code",
   "execution_count": null,
   "metadata": {},
   "outputs": [],
   "source": [
    "# submit_frame = pd.read_csv(\"submit.csv\")\n",
    "\n",
    "# result = pd.merge(submit_frame, test_raw, on='ID', how='left')\n",
    "test_raw[['ID', 'y']].to_csv(\"result.csv\",index=False)"
   ]
  },
  {
   "cell_type": "code",
   "execution_count": null,
   "metadata": {},
   "outputs": [],
   "source": []
  }
 ],
 "metadata": {
  "kernelspec": {
   "display_name": "Python 3",
   "language": "python",
   "name": "python3"
  },
  "language_info": {
   "codemirror_mode": {
    "name": "ipython",
    "version": 3
   },
   "file_extension": ".py",
   "mimetype": "text/x-python",
   "name": "python",
   "nbconvert_exporter": "python",
   "pygments_lexer": "ipython3",
   "version": "3.5.5"
  }
 },
 "nbformat": 4,
 "nbformat_minor": 2
}
